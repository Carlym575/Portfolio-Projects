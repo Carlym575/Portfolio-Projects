{
 "cells": [
  {
   "cell_type": "code",
   "execution_count": 129,
   "id": "9c9042b3-0449-412d-a3b7-e7775d701155",
   "metadata": {},
   "outputs": [],
   "source": [
    "# import libraries\n",
    "\n",
    "from bs4 import BeautifulSoup\n",
    "import requests\n",
    "import time\n",
    "import datetime\n",
    "\n",
    "import smtplib\n"
   ]
  },
  {
   "cell_type": "code",
   "execution_count": 131,
   "id": "e4b9c5f8-8f4c-489c-b75d-1409551d7018",
   "metadata": {},
   "outputs": [
    {
     "name": "stdout",
     "output_type": "stream",
     "text": [
      "\n",
      "                     Got Data Funny Business Data Analyst T-Shirt\n",
      "                    \n",
      "$15.99\n"
     ]
    }
   ],
   "source": [
    "# Connect to website\n",
    "\n",
    "URL = 'https://www.amazon.com/Funny-Data-Systems-Business-Analyst/dp/B07FNW9FGJ/ref=sr_1_3?dchild=1&keywords=data%2Banalyst%2Btshirt&qid=1626655184&sr=8-3&customId=B0752XJYNL&th=1'\n",
    "\n",
    "#headers = {\"User-Agent\": \"Mozilla/5.0 (Windows NT 10.0; Win64; x64) AppleWebKit/537.36 (KHTML, like Gecko) Chrome/135.0.0.0 Safari/537.36 Edg/135.0.0.0\", \"Accept-Encoding\":\"gzip, deflate\", \"Accept\":\"text/html,application/xhtml+xml,application/xml;q=0.9,*/*;q=0.8\", \"DNT\":\"1\",\"Connection\":\"close\", \"Upgrade-Insecure-Requests\":\"1\"}\n",
    "\n",
    "page = requests.get(URL)\n",
    "\n",
    "soup1 = BeautifulSoup(page.content, 'html.parser')\n",
    "\n",
    "soup2 = BeautifulSoup(soup1.prettify(), 'html.parser')\n",
    "\n",
    "title = soup2.find(id='productTitle').get_text()\n",
    "\n",
    "price_symbol = soup2.find(class_='a-price-symbol').get_text(strip=True)\n",
    "price_whole = soup2.find(class_='a-price-whole').get_text(strip=True)\n",
    "price_fraction = soup2.find(class_='a-price-fraction').get_text(strip=True)\n",
    "price = f'{price_symbol}{price_whole}{price_fraction}'\n",
    "\n",
    "print(title)\n",
    "print(price)\n",
    "           "
   ]
  },
  {
   "cell_type": "code",
   "execution_count": 133,
   "id": "08ab1f75-0973-4379-bf71-b4ce4e2d00e6",
   "metadata": {},
   "outputs": [
    {
     "name": "stdout",
     "output_type": "stream",
     "text": [
      "Got Data Funny Business Data Analyst T-Shirt\n",
      "15.99\n"
     ]
    },
    {
     "data": {
      "text/plain": [
       "str"
      ]
     },
     "execution_count": 133,
     "metadata": {},
     "output_type": "execute_result"
    }
   ],
   "source": [
    "price = price.strip()[1:]\n",
    "title = title.strip()\n",
    "\n",
    "print(title)\n",
    "print(price)\n",
    "type(price)"
   ]
  },
  {
   "cell_type": "code",
   "execution_count": 135,
   "id": "dfb7d71d-e68d-45f9-a0ff-4b42f3355902",
   "metadata": {},
   "outputs": [
    {
     "name": "stdout",
     "output_type": "stream",
     "text": [
      "2025-05-05\n"
     ]
    }
   ],
   "source": [
    "# Create a Timestamp for your output to track when data was collected\n",
    "\n",
    "import datetime\n",
    "\n",
    "today = datetime.date.today()\n",
    "\n",
    "print(today)\n"
   ]
  },
  {
   "cell_type": "code",
   "execution_count": 145,
   "id": "dc54aaad-689f-4a68-ac15-e7e2f7241012",
   "metadata": {},
   "outputs": [],
   "source": [
    "# Create CSV and write headers and data into the file\n",
    "\n",
    "import csv\n",
    "\n",
    "header = ['Title','price','Date']\n",
    "data = [title,price,today]\n",
    "\n",
    "#with open('AmazonWebScraperDataset.csv', 'w', newline='', encoding='UTF8') as f:\n",
    "    #writer = csv.writer(f)\n",
    "    #writer.writerow(header)\n",
    "    #writer.writerow(data)"
   ]
  },
  {
   "cell_type": "code",
   "execution_count": 155,
   "id": "a7ff6ab3-c26a-475c-8b2d-4248587cb67d",
   "metadata": {},
   "outputs": [
    {
     "name": "stdout",
     "output_type": "stream",
     "text": [
      "                                          Title  price        Date\n",
      "0  Got Data Funny Business Data Analyst T-Shirt  15.99  2025-05-05\n",
      "1  Got Data Funny Business Data Analyst T-Shirt  15.99  2025-05-05\n",
      "2  Got Data Funny Business Data Analyst T-Shirt  15.99  2025-05-05\n"
     ]
    }
   ],
   "source": [
    "import pandas as pd\n",
    "\n",
    "df = pd.read_csv(r\"C:\\Users\\Carly\\AmazonWebScraperDataset.csv\")\n",
    "\n",
    "print(df)"
   ]
  },
  {
   "cell_type": "code",
   "execution_count": 153,
   "id": "fdd0cd59-7a4e-4d8a-abff-2073eed48464",
   "metadata": {},
   "outputs": [],
   "source": [
    "#Appending Data to the CSV\n",
    "\n",
    "with open('AmazonWebScraperDataset.csv', 'a+', newline='', encoding='UTF8') as f:\n",
    "    writer = csv.writer(f)\n",
    "    writer.writerow(data)"
   ]
  },
  {
   "cell_type": "code",
   "execution_count": 157,
   "id": "fd7f93dd-e296-4ce0-9bab-ee788dfa5e10",
   "metadata": {},
   "outputs": [],
   "source": [
    "#Combine all of the above code into one function\n",
    "\n",
    "def check_price():\n",
    "    URL = 'https://www.amazon.com/Funny-Data-Systems-Business-Analyst/dp/B07FNW9FGJ/ref=sr_1_3?dchild=1&keywords=data%2Banalyst%2Btshirt&qid=1626655184&sr=8-3&customId=B0752XJYNL&th=1'\n",
    "\n",
    "    #headers = {\"User-Agent\": \"Mozilla/5.0 (Windows NT 10.0; Win64; x64) AppleWebKit/537.36 (KHTML, like Gecko) Chrome/135.0.0.0 Safari/537.36 Edg/135.0.0.0\", \"Accept-Encoding\":\"gzip, deflate\", \"Accept\":\"text/html,application/xhtml+xml,application/xml;q=0.9,*/*;q=0.8\", \"DNT\":\"1\",\"Connection\":\"close\", \"Upgrade-Insecure-Requests\":\"1\"}\n",
    "\n",
    "    page = requests.get(URL)\n",
    "\n",
    "    soup1 = BeautifulSoup(page.content, 'html.parser')\n",
    "\n",
    "    soup2 = BeautifulSoup(soup1.prettify(), 'html.parser')\n",
    "\n",
    "    title = soup2.find(id='productTitle').get_text()\n",
    "\n",
    "    price_symbol = soup2.find(class_='a-price-symbol').get_text(strip=True)\n",
    "    price_whole = soup2.find(class_='a-price-whole').get_text(strip=True)\n",
    "    price_fraction = soup2.find(class_='a-price-fraction').get_text(strip=True)\n",
    "    price = f'{price_symbol}{price_whole}{price_fraction}'\n",
    "    \n",
    "    price = price.strip()[1:]\n",
    "    title = title.strip()\n",
    "\n",
    "    import datetime\n",
    "\n",
    "    today = datetime.date.today()\n",
    "\n",
    "    import csv\n",
    "\n",
    "    header = ['Title','price','Date']\n",
    "    data = [title,price,today]\n",
    "\n",
    "    with open('AmazonWebScraperDataset.csv', 'a+', newline='', encoding='UTF8') as f:\n",
    "        writer = csv.writer(f)\n",
    "        writer.writerow(data)"
   ]
  },
  {
   "cell_type": "code",
   "execution_count": null,
   "id": "19adc038-66be-4406-afab-0e7fe4093eaf",
   "metadata": {},
   "outputs": [],
   "source": [
    "# Runs check_price after a set time and inputs data into your CSV\n",
    "\n",
    "while(True):\n",
    "    check_price()\n",
    "    time.sleep(86400)"
   ]
  },
  {
   "cell_type": "code",
   "execution_count": 161,
   "id": "b053f80c-6cbf-47c2-b77c-1c403ca0f72b",
   "metadata": {},
   "outputs": [
    {
     "name": "stdout",
     "output_type": "stream",
     "text": [
      "                                           Title  price        Date\n",
      "0   Got Data Funny Business Data Analyst T-Shirt  15.99  2025-05-05\n",
      "1   Got Data Funny Business Data Analyst T-Shirt  15.99  2025-05-05\n",
      "2   Got Data Funny Business Data Analyst T-Shirt  15.99  2025-05-05\n",
      "3   Got Data Funny Business Data Analyst T-Shirt  15.99  2025-05-05\n",
      "4   Got Data Funny Business Data Analyst T-Shirt  15.99  2025-05-05\n",
      "5   Got Data Funny Business Data Analyst T-Shirt  15.99  2025-05-05\n",
      "6   Got Data Funny Business Data Analyst T-Shirt  15.99  2025-05-05\n",
      "7   Got Data Funny Business Data Analyst T-Shirt  15.99  2025-05-05\n",
      "8   Got Data Funny Business Data Analyst T-Shirt  15.99  2025-05-05\n",
      "9   Got Data Funny Business Data Analyst T-Shirt  15.99  2025-05-05\n",
      "10  Got Data Funny Business Data Analyst T-Shirt  15.99  2025-05-05\n",
      "11  Got Data Funny Business Data Analyst T-Shirt  15.99  2025-05-05\n",
      "12  Got Data Funny Business Data Analyst T-Shirt  15.99  2025-05-05\n",
      "13  Got Data Funny Business Data Analyst T-Shirt  15.99  2025-05-05\n"
     ]
    }
   ],
   "source": [
    "import pandas as pd\n",
    "\n",
    "df = pd.read_csv(r\"C:\\Users\\Carly\\AmazonWebScraperDataset.csv\")\n",
    "\n",
    "print(df)"
   ]
  },
  {
   "cell_type": "code",
   "execution_count": null,
   "id": "463a41e2-03f3-447d-9302-2fe98898a2bf",
   "metadata": {},
   "outputs": [],
   "source": [
    "# If uou want to try sending yourself an email (just for fun) when a price hits below a certain level you can try it\n",
    "# out with this script\n",
    "\n",
    "def send_mail():\n",
    "    server = smtplib.SMTP_SSL('smtp.gmail.com',465)\n",
    "    server.ehlo()\n",
    "    #server.starttls()\n",
    "    server.ehlo()\n",
    "    server.login('AlexTheAnalyst95@gmail.com','xxxxxxxxxxxxxx')\n",
    "    \n",
    "    subject = \"The Shirt you want is below $15! Now is your chance to buy!\"\n",
    "    body = \"Alex, This is the moment we have been waiting for. Now is your chance to pick up the shirt of your dreams. Don't mess it up! Link here: https://www.amazon.com/Funny-Data-Systems-Business-Analyst/dp/B07FNW9FGJ/ref=sr_1_3?dchild=1&keywords=data+analyst+tshirt&qid=1626655184&sr=8-3\"\n",
    "   \n",
    "    msg = f\"Subject: {subject}\\n\\n{body}\"\n",
    "    \n",
    "    server.sendmail(\n",
    "        'AlexTheAnalyst95@gmail.com',\n",
    "        msg\n",
    "     \n",
    "    )\n"
   ]
  }
 ],
 "metadata": {
  "kernelspec": {
   "display_name": "Python [conda env:base] *",
   "language": "python",
   "name": "conda-base-py"
  },
  "language_info": {
   "codemirror_mode": {
    "name": "ipython",
    "version": 3
   },
   "file_extension": ".py",
   "mimetype": "text/x-python",
   "name": "python",
   "nbconvert_exporter": "python",
   "pygments_lexer": "ipython3",
   "version": "3.12.7"
  }
 },
 "nbformat": 4,
 "nbformat_minor": 5
}
